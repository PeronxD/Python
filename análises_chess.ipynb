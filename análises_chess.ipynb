{
  "cells": [
    {
      "cell_type": "markdown",
      "metadata": {
        "id": "view-in-github",
        "colab_type": "text"
      },
      "source": [
        "<a href=\"https://colab.research.google.com/github/PeronxD/Python/blob/main/an%C3%A1lises_chess.ipynb\" target=\"_parent\"><img src=\"https://colab.research.google.com/assets/colab-badge.svg\" alt=\"Open In Colab\"/></a>"
      ]
    },
    {
      "cell_type": "markdown",
      "source": [
        "### A ideia deste trabalho e estudar algumas características dos GMs pelo mundo e identificar padrões através de uma análise mais descritiva.\n",
        "\n",
        "### Foram utilizadas as informações de jogadores com a titulação de Grande Mestre de Xadrez, que é o título mais alto do xadrez."
      ],
      "metadata": {
        "id": "bZgZcyMvJcBa"
      }
    },
    {
      "cell_type": "markdown",
      "metadata": {
        "id": "-Xx1qTTmxWEP"
      },
      "source": [
        "## Importando os dados a serem analisados [GM Chess Games](https://www.kaggle.com/datasets/lazaro97/gm-chess-games?resource=download)"
      ]
    },
    {
      "cell_type": "code",
      "execution_count": 273,
      "metadata": {
        "id": "DCximwL_1iLa"
      },
      "outputs": [],
      "source": [
        "import sys\n",
        "if not sys.warnoptions:\n",
        "    import warnings\n",
        "    warnings.simplefilter(\"ignore\")"
      ]
    },
    {
      "cell_type": "code",
      "execution_count": 274,
      "metadata": {
        "id": "b7Quwl_eqxDB"
      },
      "outputs": [],
      "source": [
        "import pandas as pd\n",
        "import numpy as np"
      ]
    },
    {
      "cell_type": "code",
      "execution_count": 275,
      "metadata": {
        "id": "-VjsVeesvOtn"
      },
      "outputs": [],
      "source": [
        "dados_biog = pd.read_csv('players_biography.csv')"
      ]
    },
    {
      "cell_type": "code",
      "execution_count": 276,
      "metadata": {
        "id": "Rpg_wNxNK0ZL"
      },
      "outputs": [],
      "source": [
        "dados = dados_biog\n",
        "dados.drop(columns = ['FIDE ID'],inplace=True)"
      ]
    },
    {
      "cell_type": "code",
      "execution_count": 277,
      "metadata": {
        "colab": {
          "base_uri": "https://localhost:8080/",
          "height": 397
        },
        "id": "TsIsmCIK-o7b",
        "outputId": "a9aeae4e-aa20-4b4f-ecf9-cd20021a651b"
      },
      "outputs": [
        {
          "output_type": "execute_result",
          "data": {
            "text/plain": [
              "                     Name        Born  \\\n",
              "0      Salem, A. R. Saleh        1993   \n",
              "1          Schwarz, Adolf  1836-10-31   \n",
              "2    Rakhmanov, Aleksandr        1989   \n",
              "3     Alekhine, Alexander  1892-10-31   \n",
              "4  Areshchenko, Alexander        1986   \n",
              "\n",
              "                                             Results  \\\n",
              "0  Win: 46.9% (519) Loss: 26.6% (294) Draw: 26.6%...   \n",
              "1  Win: 28.6% (38) Loss: 42.1% (56) Draw: 29.3% (...   \n",
              "2  Win: 40.6% (617) Loss: 17.9% (271) Draw: 41.5%...   \n",
              "3  Win: 56.8% (725) Loss: 11.9% (152) Draw: 31.3%...   \n",
              "4  Win: 43.6% (568) Loss: 14.7% (191) Draw: 41.7%...   \n",
              "\n",
              "                                       White Results  \\\n",
              "0  Win: 50.7% (284) Loss: 23.4% (131) Draw: 25.9%...   \n",
              "1  Win: 28.4% (19) Loss: 35.8% (24) Draw: 35.8% (...   \n",
              "2  Win: 46% (354) Loss: 14% (108) Draw: 40% (308)...   \n",
              "3  Win: 60.3% (417) Loss: 11.1% (77) Draw: 28.6% ...   \n",
              "4  Win: 52.7% (351) Loss: 11.6% (77) Draw: 35.7% ...   \n",
              "\n",
              "                                       Black Results  \\\n",
              "0  Win: 43% (235) Loss: 29.8% (163) Draw: 27.2% (...   \n",
              "1  Win: 28.8% (19) Loss: 48.5% (32) Draw: 22.7% (...   \n",
              "2  Win: 35.2% (263) Loss: 21.8% (163) Draw: 43% (...   \n",
              "3  Win: 52.6% (308) Loss: 12.8% (75) Draw: 34.5% ...   \n",
              "4  Win: 34.1% (217) Loss: 17.9% (114) Draw: 48% (...   \n",
              "\n",
              "                     Active      Current Rating          Max Rating  Country  \n",
              "0  2002-08-22 to 2019-12-30  2682 on 2021-04-01  2682 on 2020-01-01      UAE  \n",
              "1              1873 to 1900               2657*               2657*  HUN/AUT  \n",
              "2  2001-10-01 to 2020-12-17  2651 on 2021-04-01  2676 on 2017-05-01      RUS  \n",
              "3              1906 to 1946               2700*               2700*      URS  \n",
              "4        1996 to 2019-12-08  2687 on 2021-04-01  2720 on 2012-12-01      UKR  "
            ],
            "text/html": [
              "\n",
              "  <div id=\"df-de94e1e0-3729-4d69-b5b8-af3333646bc8\" class=\"colab-df-container\">\n",
              "    <div>\n",
              "<style scoped>\n",
              "    .dataframe tbody tr th:only-of-type {\n",
              "        vertical-align: middle;\n",
              "    }\n",
              "\n",
              "    .dataframe tbody tr th {\n",
              "        vertical-align: top;\n",
              "    }\n",
              "\n",
              "    .dataframe thead th {\n",
              "        text-align: right;\n",
              "    }\n",
              "</style>\n",
              "<table border=\"1\" class=\"dataframe\">\n",
              "  <thead>\n",
              "    <tr style=\"text-align: right;\">\n",
              "      <th></th>\n",
              "      <th>Name</th>\n",
              "      <th>Born</th>\n",
              "      <th>Results</th>\n",
              "      <th>White Results</th>\n",
              "      <th>Black Results</th>\n",
              "      <th>Active</th>\n",
              "      <th>Current Rating</th>\n",
              "      <th>Max Rating</th>\n",
              "      <th>Country</th>\n",
              "    </tr>\n",
              "  </thead>\n",
              "  <tbody>\n",
              "    <tr>\n",
              "      <th>0</th>\n",
              "      <td>Salem, A. R. Saleh</td>\n",
              "      <td>1993</td>\n",
              "      <td>Win: 46.9% (519) Loss: 26.6% (294) Draw: 26.6%...</td>\n",
              "      <td>Win: 50.7% (284) Loss: 23.4% (131) Draw: 25.9%...</td>\n",
              "      <td>Win: 43% (235) Loss: 29.8% (163) Draw: 27.2% (...</td>\n",
              "      <td>2002-08-22 to 2019-12-30</td>\n",
              "      <td>2682 on 2021-04-01</td>\n",
              "      <td>2682 on 2020-01-01</td>\n",
              "      <td>UAE</td>\n",
              "    </tr>\n",
              "    <tr>\n",
              "      <th>1</th>\n",
              "      <td>Schwarz, Adolf</td>\n",
              "      <td>1836-10-31</td>\n",
              "      <td>Win: 28.6% (38) Loss: 42.1% (56) Draw: 29.3% (...</td>\n",
              "      <td>Win: 28.4% (19) Loss: 35.8% (24) Draw: 35.8% (...</td>\n",
              "      <td>Win: 28.8% (19) Loss: 48.5% (32) Draw: 22.7% (...</td>\n",
              "      <td>1873 to 1900</td>\n",
              "      <td>2657*</td>\n",
              "      <td>2657*</td>\n",
              "      <td>HUN/AUT</td>\n",
              "    </tr>\n",
              "    <tr>\n",
              "      <th>2</th>\n",
              "      <td>Rakhmanov, Aleksandr</td>\n",
              "      <td>1989</td>\n",
              "      <td>Win: 40.6% (617) Loss: 17.9% (271) Draw: 41.5%...</td>\n",
              "      <td>Win: 46% (354) Loss: 14% (108) Draw: 40% (308)...</td>\n",
              "      <td>Win: 35.2% (263) Loss: 21.8% (163) Draw: 43% (...</td>\n",
              "      <td>2001-10-01 to 2020-12-17</td>\n",
              "      <td>2651 on 2021-04-01</td>\n",
              "      <td>2676 on 2017-05-01</td>\n",
              "      <td>RUS</td>\n",
              "    </tr>\n",
              "    <tr>\n",
              "      <th>3</th>\n",
              "      <td>Alekhine, Alexander</td>\n",
              "      <td>1892-10-31</td>\n",
              "      <td>Win: 56.8% (725) Loss: 11.9% (152) Draw: 31.3%...</td>\n",
              "      <td>Win: 60.3% (417) Loss: 11.1% (77) Draw: 28.6% ...</td>\n",
              "      <td>Win: 52.6% (308) Loss: 12.8% (75) Draw: 34.5% ...</td>\n",
              "      <td>1906 to 1946</td>\n",
              "      <td>2700*</td>\n",
              "      <td>2700*</td>\n",
              "      <td>URS</td>\n",
              "    </tr>\n",
              "    <tr>\n",
              "      <th>4</th>\n",
              "      <td>Areshchenko, Alexander</td>\n",
              "      <td>1986</td>\n",
              "      <td>Win: 43.6% (568) Loss: 14.7% (191) Draw: 41.7%...</td>\n",
              "      <td>Win: 52.7% (351) Loss: 11.6% (77) Draw: 35.7% ...</td>\n",
              "      <td>Win: 34.1% (217) Loss: 17.9% (114) Draw: 48% (...</td>\n",
              "      <td>1996 to 2019-12-08</td>\n",
              "      <td>2687 on 2021-04-01</td>\n",
              "      <td>2720 on 2012-12-01</td>\n",
              "      <td>UKR</td>\n",
              "    </tr>\n",
              "  </tbody>\n",
              "</table>\n",
              "</div>\n",
              "    <div class=\"colab-df-buttons\">\n",
              "\n",
              "  <div class=\"colab-df-container\">\n",
              "    <button class=\"colab-df-convert\" onclick=\"convertToInteractive('df-de94e1e0-3729-4d69-b5b8-af3333646bc8')\"\n",
              "            title=\"Convert this dataframe to an interactive table.\"\n",
              "            style=\"display:none;\">\n",
              "\n",
              "  <svg xmlns=\"http://www.w3.org/2000/svg\" height=\"24px\" viewBox=\"0 -960 960 960\">\n",
              "    <path d=\"M120-120v-720h720v720H120Zm60-500h600v-160H180v160Zm220 220h160v-160H400v160Zm0 220h160v-160H400v160ZM180-400h160v-160H180v160Zm440 0h160v-160H620v160ZM180-180h160v-160H180v160Zm440 0h160v-160H620v160Z\"/>\n",
              "  </svg>\n",
              "    </button>\n",
              "\n",
              "  <style>\n",
              "    .colab-df-container {\n",
              "      display:flex;\n",
              "      gap: 12px;\n",
              "    }\n",
              "\n",
              "    .colab-df-convert {\n",
              "      background-color: #E8F0FE;\n",
              "      border: none;\n",
              "      border-radius: 50%;\n",
              "      cursor: pointer;\n",
              "      display: none;\n",
              "      fill: #1967D2;\n",
              "      height: 32px;\n",
              "      padding: 0 0 0 0;\n",
              "      width: 32px;\n",
              "    }\n",
              "\n",
              "    .colab-df-convert:hover {\n",
              "      background-color: #E2EBFA;\n",
              "      box-shadow: 0px 1px 2px rgba(60, 64, 67, 0.3), 0px 1px 3px 1px rgba(60, 64, 67, 0.15);\n",
              "      fill: #174EA6;\n",
              "    }\n",
              "\n",
              "    .colab-df-buttons div {\n",
              "      margin-bottom: 4px;\n",
              "    }\n",
              "\n",
              "    [theme=dark] .colab-df-convert {\n",
              "      background-color: #3B4455;\n",
              "      fill: #D2E3FC;\n",
              "    }\n",
              "\n",
              "    [theme=dark] .colab-df-convert:hover {\n",
              "      background-color: #434B5C;\n",
              "      box-shadow: 0px 1px 3px 1px rgba(0, 0, 0, 0.15);\n",
              "      filter: drop-shadow(0px 1px 2px rgba(0, 0, 0, 0.3));\n",
              "      fill: #FFFFFF;\n",
              "    }\n",
              "  </style>\n",
              "\n",
              "    <script>\n",
              "      const buttonEl =\n",
              "        document.querySelector('#df-de94e1e0-3729-4d69-b5b8-af3333646bc8 button.colab-df-convert');\n",
              "      buttonEl.style.display =\n",
              "        google.colab.kernel.accessAllowed ? 'block' : 'none';\n",
              "\n",
              "      async function convertToInteractive(key) {\n",
              "        const element = document.querySelector('#df-de94e1e0-3729-4d69-b5b8-af3333646bc8');\n",
              "        const dataTable =\n",
              "          await google.colab.kernel.invokeFunction('convertToInteractive',\n",
              "                                                    [key], {});\n",
              "        if (!dataTable) return;\n",
              "\n",
              "        const docLinkHtml = 'Like what you see? Visit the ' +\n",
              "          '<a target=\"_blank\" href=https://colab.research.google.com/notebooks/data_table.ipynb>data table notebook</a>'\n",
              "          + ' to learn more about interactive tables.';\n",
              "        element.innerHTML = '';\n",
              "        dataTable['output_type'] = 'display_data';\n",
              "        await google.colab.output.renderOutput(dataTable, element);\n",
              "        const docLink = document.createElement('div');\n",
              "        docLink.innerHTML = docLinkHtml;\n",
              "        element.appendChild(docLink);\n",
              "      }\n",
              "    </script>\n",
              "  </div>\n",
              "\n",
              "\n",
              "<div id=\"df-700e12fc-189e-4699-b877-bb3fb7322e13\">\n",
              "  <button class=\"colab-df-quickchart\" onclick=\"quickchart('df-700e12fc-189e-4699-b877-bb3fb7322e13')\"\n",
              "            title=\"Suggest charts\"\n",
              "            style=\"display:none;\">\n",
              "\n",
              "<svg xmlns=\"http://www.w3.org/2000/svg\" height=\"24px\"viewBox=\"0 0 24 24\"\n",
              "     width=\"24px\">\n",
              "    <g>\n",
              "        <path d=\"M19 3H5c-1.1 0-2 .9-2 2v14c0 1.1.9 2 2 2h14c1.1 0 2-.9 2-2V5c0-1.1-.9-2-2-2zM9 17H7v-7h2v7zm4 0h-2V7h2v10zm4 0h-2v-4h2v4z\"/>\n",
              "    </g>\n",
              "</svg>\n",
              "  </button>\n",
              "\n",
              "<style>\n",
              "  .colab-df-quickchart {\n",
              "      --bg-color: #E8F0FE;\n",
              "      --fill-color: #1967D2;\n",
              "      --hover-bg-color: #E2EBFA;\n",
              "      --hover-fill-color: #174EA6;\n",
              "      --disabled-fill-color: #AAA;\n",
              "      --disabled-bg-color: #DDD;\n",
              "  }\n",
              "\n",
              "  [theme=dark] .colab-df-quickchart {\n",
              "      --bg-color: #3B4455;\n",
              "      --fill-color: #D2E3FC;\n",
              "      --hover-bg-color: #434B5C;\n",
              "      --hover-fill-color: #FFFFFF;\n",
              "      --disabled-bg-color: #3B4455;\n",
              "      --disabled-fill-color: #666;\n",
              "  }\n",
              "\n",
              "  .colab-df-quickchart {\n",
              "    background-color: var(--bg-color);\n",
              "    border: none;\n",
              "    border-radius: 50%;\n",
              "    cursor: pointer;\n",
              "    display: none;\n",
              "    fill: var(--fill-color);\n",
              "    height: 32px;\n",
              "    padding: 0;\n",
              "    width: 32px;\n",
              "  }\n",
              "\n",
              "  .colab-df-quickchart:hover {\n",
              "    background-color: var(--hover-bg-color);\n",
              "    box-shadow: 0 1px 2px rgba(60, 64, 67, 0.3), 0 1px 3px 1px rgba(60, 64, 67, 0.15);\n",
              "    fill: var(--button-hover-fill-color);\n",
              "  }\n",
              "\n",
              "  .colab-df-quickchart-complete:disabled,\n",
              "  .colab-df-quickchart-complete:disabled:hover {\n",
              "    background-color: var(--disabled-bg-color);\n",
              "    fill: var(--disabled-fill-color);\n",
              "    box-shadow: none;\n",
              "  }\n",
              "\n",
              "  .colab-df-spinner {\n",
              "    border: 2px solid var(--fill-color);\n",
              "    border-color: transparent;\n",
              "    border-bottom-color: var(--fill-color);\n",
              "    animation:\n",
              "      spin 1s steps(1) infinite;\n",
              "  }\n",
              "\n",
              "  @keyframes spin {\n",
              "    0% {\n",
              "      border-color: transparent;\n",
              "      border-bottom-color: var(--fill-color);\n",
              "      border-left-color: var(--fill-color);\n",
              "    }\n",
              "    20% {\n",
              "      border-color: transparent;\n",
              "      border-left-color: var(--fill-color);\n",
              "      border-top-color: var(--fill-color);\n",
              "    }\n",
              "    30% {\n",
              "      border-color: transparent;\n",
              "      border-left-color: var(--fill-color);\n",
              "      border-top-color: var(--fill-color);\n",
              "      border-right-color: var(--fill-color);\n",
              "    }\n",
              "    40% {\n",
              "      border-color: transparent;\n",
              "      border-right-color: var(--fill-color);\n",
              "      border-top-color: var(--fill-color);\n",
              "    }\n",
              "    60% {\n",
              "      border-color: transparent;\n",
              "      border-right-color: var(--fill-color);\n",
              "    }\n",
              "    80% {\n",
              "      border-color: transparent;\n",
              "      border-right-color: var(--fill-color);\n",
              "      border-bottom-color: var(--fill-color);\n",
              "    }\n",
              "    90% {\n",
              "      border-color: transparent;\n",
              "      border-bottom-color: var(--fill-color);\n",
              "    }\n",
              "  }\n",
              "</style>\n",
              "\n",
              "  <script>\n",
              "    async function quickchart(key) {\n",
              "      const quickchartButtonEl =\n",
              "        document.querySelector('#' + key + ' button');\n",
              "      quickchartButtonEl.disabled = true;  // To prevent multiple clicks.\n",
              "      quickchartButtonEl.classList.add('colab-df-spinner');\n",
              "      try {\n",
              "        const charts = await google.colab.kernel.invokeFunction(\n",
              "            'suggestCharts', [key], {});\n",
              "      } catch (error) {\n",
              "        console.error('Error during call to suggestCharts:', error);\n",
              "      }\n",
              "      quickchartButtonEl.classList.remove('colab-df-spinner');\n",
              "      quickchartButtonEl.classList.add('colab-df-quickchart-complete');\n",
              "    }\n",
              "    (() => {\n",
              "      let quickchartButtonEl =\n",
              "        document.querySelector('#df-700e12fc-189e-4699-b877-bb3fb7322e13 button');\n",
              "      quickchartButtonEl.style.display =\n",
              "        google.colab.kernel.accessAllowed ? 'block' : 'none';\n",
              "    })();\n",
              "  </script>\n",
              "</div>\n",
              "\n",
              "    </div>\n",
              "  </div>\n"
            ]
          },
          "metadata": {},
          "execution_count": 277
        }
      ],
      "source": [
        "dados.head(5)"
      ]
    },
    {
      "cell_type": "markdown",
      "metadata": {
        "id": "NbDcUytaxwPA"
      },
      "source": [
        "## Verificar a consistência dos dados\n",
        "\n",
        "\n"
      ]
    },
    {
      "cell_type": "code",
      "execution_count": 278,
      "metadata": {
        "colab": {
          "base_uri": "https://localhost:8080/"
        },
        "id": "CYTa1EOeve6v",
        "outputId": "53f74d62-f0da-438f-a20b-8c2e1f43c9d3"
      },
      "outputs": [
        {
          "output_type": "execute_result",
          "data": {
            "text/plain": [
              "Name              0\n",
              "Born              0\n",
              "Results           0\n",
              "White Results     0\n",
              "Black Results     0\n",
              "Active            0\n",
              "Current Rating    0\n",
              "Max Rating        0\n",
              "Country           0\n",
              "dtype: int64"
            ]
          },
          "metadata": {},
          "execution_count": 278
        }
      ],
      "source": [
        "dados.isna().sum() # temos alguns valores faltantes"
      ]
    },
    {
      "cell_type": "code",
      "execution_count": 279,
      "metadata": {
        "colab": {
          "base_uri": "https://localhost:8080/"
        },
        "id": "FxXkkZ1AyKL_",
        "outputId": "346695f5-266f-4da2-d4cd-602489a984d0"
      },
      "outputs": [
        {
          "output_type": "stream",
          "name": "stdout",
          "text": [
            "<class 'pandas.core.frame.DataFrame'>\n",
            "RangeIndex: 128 entries, 0 to 127\n",
            "Data columns (total 9 columns):\n",
            " #   Column          Non-Null Count  Dtype \n",
            "---  ------          --------------  ----- \n",
            " 0   Name            128 non-null    object\n",
            " 1   Born            128 non-null    object\n",
            " 2   Results         128 non-null    object\n",
            " 3   White Results   128 non-null    object\n",
            " 4   Black Results   128 non-null    object\n",
            " 5   Active          128 non-null    object\n",
            " 6   Current Rating  128 non-null    object\n",
            " 7   Max Rating      128 non-null    object\n",
            " 8   Country         128 non-null    object\n",
            "dtypes: object(9)\n",
            "memory usage: 9.1+ KB\n"
          ]
        }
      ],
      "source": [
        "dados.info() # olhando para a tipagem das variáveis"
      ]
    },
    {
      "cell_type": "markdown",
      "metadata": {
        "id": "4Sp_m5QFG5nq"
      },
      "source": [
        "## Tratamento do dataframe\n"
      ]
    },
    {
      "cell_type": "code",
      "execution_count": 280,
      "metadata": {
        "id": "u_dbl8FQKO41"
      },
      "outputs": [],
      "source": [
        "# a ideia aqui é splitar essas variáveis para podermos pegar apenas a parte numérica útil\n",
        "dados['Current Rating'] = dados['Current Rating'].str.strip().str.split(' ').str[0]\n",
        "dados['Max Rating'] = dados['Max Rating'].str.strip().str.split(' ').str[0]\n",
        "dados['Born'] = dados['Born'].str.strip().str.split('-').str[0]\n"
      ]
    },
    {
      "cell_type": "code",
      "execution_count": 281,
      "metadata": {
        "id": "GFPEeE3OBbCE"
      },
      "outputs": [],
      "source": [
        "import re\n",
        "\n",
        "dados['Current Rating'] = dados['Current Rating'].str.replace(r'\\D', '', regex=True)\n",
        "dados['Born'] = dados['Born'].str.replace(r'\\D', '', regex=True)\n",
        "dados['Max Rating'] = dados['Max Rating'].str.replace(r'\\D', '', regex=True)\n",
        "\n",
        "# Converter para inteiros\n",
        "dados['Current Rating'] = dados['Current Rating'].astype(int)\n",
        "dados['Born'] = dados['Born'].astype(int)\n",
        "dados['Max Rating'] = dados['Max Rating'].astype(int)\n"
      ]
    },
    {
      "cell_type": "code",
      "execution_count": 282,
      "metadata": {
        "colab": {
          "base_uri": "https://localhost:8080/"
        },
        "id": "-oU0LD5jCCHh",
        "outputId": "1cd79c97-c712-4ae6-a86d-42c48989cde8"
      },
      "outputs": [
        {
          "output_type": "stream",
          "name": "stdout",
          "text": [
            "<class 'pandas.core.frame.DataFrame'>\n",
            "RangeIndex: 128 entries, 0 to 127\n",
            "Data columns (total 9 columns):\n",
            " #   Column          Non-Null Count  Dtype \n",
            "---  ------          --------------  ----- \n",
            " 0   Name            128 non-null    object\n",
            " 1   Born            128 non-null    int64 \n",
            " 2   Results         128 non-null    object\n",
            " 3   White Results   128 non-null    object\n",
            " 4   Black Results   128 non-null    object\n",
            " 5   Active          128 non-null    object\n",
            " 6   Current Rating  128 non-null    int64 \n",
            " 7   Max Rating      128 non-null    int64 \n",
            " 8   Country         128 non-null    object\n",
            "dtypes: int64(3), object(6)\n",
            "memory usage: 9.1+ KB\n"
          ]
        }
      ],
      "source": [
        "dados.info()"
      ]
    },
    {
      "cell_type": "code",
      "execution_count": 283,
      "metadata": {
        "id": "mAIbKjhKHCM_"
      },
      "outputs": [],
      "source": [
        "dados['Idade'] = 2021 - dados.Born # add coluna de idade dos jogadores"
      ]
    },
    {
      "cell_type": "code",
      "execution_count": 284,
      "metadata": {
        "id": "Y5iF1lpzCYX7"
      },
      "outputs": [],
      "source": [
        "dados = dados.sort_values(by='Current Rating', ascending=False).reset_index(drop=True) # Ordenando em relação ao rating"
      ]
    },
    {
      "cell_type": "markdown",
      "metadata": {
        "id": "pAzyZ9IbzD3v"
      },
      "source": [
        "## Análise exploratória\n"
      ]
    },
    {
      "cell_type": "code",
      "execution_count": 285,
      "metadata": {
        "id": "6Y-Xtch7zly3"
      },
      "outputs": [],
      "source": [
        "import seaborn as sns\n",
        "import matplotlib.pyplot as plt\n",
        "plt.rcParams[\"figure.figsize\"] = (20,6)"
      ]
    },
    {
      "cell_type": "code",
      "execution_count": 286,
      "metadata": {
        "colab": {
          "base_uri": "https://localhost:8080/",
          "height": 300
        },
        "id": "G04JTkotyx4a",
        "outputId": "56ab3459-fb87-4fee-fe40-1d13d8532a82"
      },
      "outputs": [
        {
          "output_type": "execute_result",
          "data": {
            "text/plain": [
              "              Born  Current Rating   Max Rating       Idade\n",
              "count   128.000000      128.000000   128.000000  128.000000\n",
              "mean   1964.960938     2697.023438  2726.664062   56.039062\n",
              "std      48.564010       42.273848    51.163668   48.564010\n",
              "min    1806.000000     2650.000000  2650.000000   18.000000\n",
              "25%    1973.000000     2663.750000  2685.250000   28.750000\n",
              "50%    1986.000000     2683.000000  2719.000000   35.000000\n",
              "75%    1992.250000     2715.250000  2761.000000   48.000000\n",
              "max    2003.000000     2847.000000  2882.000000  215.000000"
            ],
            "text/html": [
              "\n",
              "  <div id=\"df-d666b9d2-a123-4ee5-b489-78e61c513e95\" class=\"colab-df-container\">\n",
              "    <div>\n",
              "<style scoped>\n",
              "    .dataframe tbody tr th:only-of-type {\n",
              "        vertical-align: middle;\n",
              "    }\n",
              "\n",
              "    .dataframe tbody tr th {\n",
              "        vertical-align: top;\n",
              "    }\n",
              "\n",
              "    .dataframe thead th {\n",
              "        text-align: right;\n",
              "    }\n",
              "</style>\n",
              "<table border=\"1\" class=\"dataframe\">\n",
              "  <thead>\n",
              "    <tr style=\"text-align: right;\">\n",
              "      <th></th>\n",
              "      <th>Born</th>\n",
              "      <th>Current Rating</th>\n",
              "      <th>Max Rating</th>\n",
              "      <th>Idade</th>\n",
              "    </tr>\n",
              "  </thead>\n",
              "  <tbody>\n",
              "    <tr>\n",
              "      <th>count</th>\n",
              "      <td>128.000000</td>\n",
              "      <td>128.000000</td>\n",
              "      <td>128.000000</td>\n",
              "      <td>128.000000</td>\n",
              "    </tr>\n",
              "    <tr>\n",
              "      <th>mean</th>\n",
              "      <td>1964.960938</td>\n",
              "      <td>2697.023438</td>\n",
              "      <td>2726.664062</td>\n",
              "      <td>56.039062</td>\n",
              "    </tr>\n",
              "    <tr>\n",
              "      <th>std</th>\n",
              "      <td>48.564010</td>\n",
              "      <td>42.273848</td>\n",
              "      <td>51.163668</td>\n",
              "      <td>48.564010</td>\n",
              "    </tr>\n",
              "    <tr>\n",
              "      <th>min</th>\n",
              "      <td>1806.000000</td>\n",
              "      <td>2650.000000</td>\n",
              "      <td>2650.000000</td>\n",
              "      <td>18.000000</td>\n",
              "    </tr>\n",
              "    <tr>\n",
              "      <th>25%</th>\n",
              "      <td>1973.000000</td>\n",
              "      <td>2663.750000</td>\n",
              "      <td>2685.250000</td>\n",
              "      <td>28.750000</td>\n",
              "    </tr>\n",
              "    <tr>\n",
              "      <th>50%</th>\n",
              "      <td>1986.000000</td>\n",
              "      <td>2683.000000</td>\n",
              "      <td>2719.000000</td>\n",
              "      <td>35.000000</td>\n",
              "    </tr>\n",
              "    <tr>\n",
              "      <th>75%</th>\n",
              "      <td>1992.250000</td>\n",
              "      <td>2715.250000</td>\n",
              "      <td>2761.000000</td>\n",
              "      <td>48.000000</td>\n",
              "    </tr>\n",
              "    <tr>\n",
              "      <th>max</th>\n",
              "      <td>2003.000000</td>\n",
              "      <td>2847.000000</td>\n",
              "      <td>2882.000000</td>\n",
              "      <td>215.000000</td>\n",
              "    </tr>\n",
              "  </tbody>\n",
              "</table>\n",
              "</div>\n",
              "    <div class=\"colab-df-buttons\">\n",
              "\n",
              "  <div class=\"colab-df-container\">\n",
              "    <button class=\"colab-df-convert\" onclick=\"convertToInteractive('df-d666b9d2-a123-4ee5-b489-78e61c513e95')\"\n",
              "            title=\"Convert this dataframe to an interactive table.\"\n",
              "            style=\"display:none;\">\n",
              "\n",
              "  <svg xmlns=\"http://www.w3.org/2000/svg\" height=\"24px\" viewBox=\"0 -960 960 960\">\n",
              "    <path d=\"M120-120v-720h720v720H120Zm60-500h600v-160H180v160Zm220 220h160v-160H400v160Zm0 220h160v-160H400v160ZM180-400h160v-160H180v160Zm440 0h160v-160H620v160ZM180-180h160v-160H180v160Zm440 0h160v-160H620v160Z\"/>\n",
              "  </svg>\n",
              "    </button>\n",
              "\n",
              "  <style>\n",
              "    .colab-df-container {\n",
              "      display:flex;\n",
              "      gap: 12px;\n",
              "    }\n",
              "\n",
              "    .colab-df-convert {\n",
              "      background-color: #E8F0FE;\n",
              "      border: none;\n",
              "      border-radius: 50%;\n",
              "      cursor: pointer;\n",
              "      display: none;\n",
              "      fill: #1967D2;\n",
              "      height: 32px;\n",
              "      padding: 0 0 0 0;\n",
              "      width: 32px;\n",
              "    }\n",
              "\n",
              "    .colab-df-convert:hover {\n",
              "      background-color: #E2EBFA;\n",
              "      box-shadow: 0px 1px 2px rgba(60, 64, 67, 0.3), 0px 1px 3px 1px rgba(60, 64, 67, 0.15);\n",
              "      fill: #174EA6;\n",
              "    }\n",
              "\n",
              "    .colab-df-buttons div {\n",
              "      margin-bottom: 4px;\n",
              "    }\n",
              "\n",
              "    [theme=dark] .colab-df-convert {\n",
              "      background-color: #3B4455;\n",
              "      fill: #D2E3FC;\n",
              "    }\n",
              "\n",
              "    [theme=dark] .colab-df-convert:hover {\n",
              "      background-color: #434B5C;\n",
              "      box-shadow: 0px 1px 3px 1px rgba(0, 0, 0, 0.15);\n",
              "      filter: drop-shadow(0px 1px 2px rgba(0, 0, 0, 0.3));\n",
              "      fill: #FFFFFF;\n",
              "    }\n",
              "  </style>\n",
              "\n",
              "    <script>\n",
              "      const buttonEl =\n",
              "        document.querySelector('#df-d666b9d2-a123-4ee5-b489-78e61c513e95 button.colab-df-convert');\n",
              "      buttonEl.style.display =\n",
              "        google.colab.kernel.accessAllowed ? 'block' : 'none';\n",
              "\n",
              "      async function convertToInteractive(key) {\n",
              "        const element = document.querySelector('#df-d666b9d2-a123-4ee5-b489-78e61c513e95');\n",
              "        const dataTable =\n",
              "          await google.colab.kernel.invokeFunction('convertToInteractive',\n",
              "                                                    [key], {});\n",
              "        if (!dataTable) return;\n",
              "\n",
              "        const docLinkHtml = 'Like what you see? Visit the ' +\n",
              "          '<a target=\"_blank\" href=https://colab.research.google.com/notebooks/data_table.ipynb>data table notebook</a>'\n",
              "          + ' to learn more about interactive tables.';\n",
              "        element.innerHTML = '';\n",
              "        dataTable['output_type'] = 'display_data';\n",
              "        await google.colab.output.renderOutput(dataTable, element);\n",
              "        const docLink = document.createElement('div');\n",
              "        docLink.innerHTML = docLinkHtml;\n",
              "        element.appendChild(docLink);\n",
              "      }\n",
              "    </script>\n",
              "  </div>\n",
              "\n",
              "\n",
              "<div id=\"df-3bdfa351-d2ca-4cb9-8109-3f89c1f6d3fb\">\n",
              "  <button class=\"colab-df-quickchart\" onclick=\"quickchart('df-3bdfa351-d2ca-4cb9-8109-3f89c1f6d3fb')\"\n",
              "            title=\"Suggest charts\"\n",
              "            style=\"display:none;\">\n",
              "\n",
              "<svg xmlns=\"http://www.w3.org/2000/svg\" height=\"24px\"viewBox=\"0 0 24 24\"\n",
              "     width=\"24px\">\n",
              "    <g>\n",
              "        <path d=\"M19 3H5c-1.1 0-2 .9-2 2v14c0 1.1.9 2 2 2h14c1.1 0 2-.9 2-2V5c0-1.1-.9-2-2-2zM9 17H7v-7h2v7zm4 0h-2V7h2v10zm4 0h-2v-4h2v4z\"/>\n",
              "    </g>\n",
              "</svg>\n",
              "  </button>\n",
              "\n",
              "<style>\n",
              "  .colab-df-quickchart {\n",
              "      --bg-color: #E8F0FE;\n",
              "      --fill-color: #1967D2;\n",
              "      --hover-bg-color: #E2EBFA;\n",
              "      --hover-fill-color: #174EA6;\n",
              "      --disabled-fill-color: #AAA;\n",
              "      --disabled-bg-color: #DDD;\n",
              "  }\n",
              "\n",
              "  [theme=dark] .colab-df-quickchart {\n",
              "      --bg-color: #3B4455;\n",
              "      --fill-color: #D2E3FC;\n",
              "      --hover-bg-color: #434B5C;\n",
              "      --hover-fill-color: #FFFFFF;\n",
              "      --disabled-bg-color: #3B4455;\n",
              "      --disabled-fill-color: #666;\n",
              "  }\n",
              "\n",
              "  .colab-df-quickchart {\n",
              "    background-color: var(--bg-color);\n",
              "    border: none;\n",
              "    border-radius: 50%;\n",
              "    cursor: pointer;\n",
              "    display: none;\n",
              "    fill: var(--fill-color);\n",
              "    height: 32px;\n",
              "    padding: 0;\n",
              "    width: 32px;\n",
              "  }\n",
              "\n",
              "  .colab-df-quickchart:hover {\n",
              "    background-color: var(--hover-bg-color);\n",
              "    box-shadow: 0 1px 2px rgba(60, 64, 67, 0.3), 0 1px 3px 1px rgba(60, 64, 67, 0.15);\n",
              "    fill: var(--button-hover-fill-color);\n",
              "  }\n",
              "\n",
              "  .colab-df-quickchart-complete:disabled,\n",
              "  .colab-df-quickchart-complete:disabled:hover {\n",
              "    background-color: var(--disabled-bg-color);\n",
              "    fill: var(--disabled-fill-color);\n",
              "    box-shadow: none;\n",
              "  }\n",
              "\n",
              "  .colab-df-spinner {\n",
              "    border: 2px solid var(--fill-color);\n",
              "    border-color: transparent;\n",
              "    border-bottom-color: var(--fill-color);\n",
              "    animation:\n",
              "      spin 1s steps(1) infinite;\n",
              "  }\n",
              "\n",
              "  @keyframes spin {\n",
              "    0% {\n",
              "      border-color: transparent;\n",
              "      border-bottom-color: var(--fill-color);\n",
              "      border-left-color: var(--fill-color);\n",
              "    }\n",
              "    20% {\n",
              "      border-color: transparent;\n",
              "      border-left-color: var(--fill-color);\n",
              "      border-top-color: var(--fill-color);\n",
              "    }\n",
              "    30% {\n",
              "      border-color: transparent;\n",
              "      border-left-color: var(--fill-color);\n",
              "      border-top-color: var(--fill-color);\n",
              "      border-right-color: var(--fill-color);\n",
              "    }\n",
              "    40% {\n",
              "      border-color: transparent;\n",
              "      border-right-color: var(--fill-color);\n",
              "      border-top-color: var(--fill-color);\n",
              "    }\n",
              "    60% {\n",
              "      border-color: transparent;\n",
              "      border-right-color: var(--fill-color);\n",
              "    }\n",
              "    80% {\n",
              "      border-color: transparent;\n",
              "      border-right-color: var(--fill-color);\n",
              "      border-bottom-color: var(--fill-color);\n",
              "    }\n",
              "    90% {\n",
              "      border-color: transparent;\n",
              "      border-bottom-color: var(--fill-color);\n",
              "    }\n",
              "  }\n",
              "</style>\n",
              "\n",
              "  <script>\n",
              "    async function quickchart(key) {\n",
              "      const quickchartButtonEl =\n",
              "        document.querySelector('#' + key + ' button');\n",
              "      quickchartButtonEl.disabled = true;  // To prevent multiple clicks.\n",
              "      quickchartButtonEl.classList.add('colab-df-spinner');\n",
              "      try {\n",
              "        const charts = await google.colab.kernel.invokeFunction(\n",
              "            'suggestCharts', [key], {});\n",
              "      } catch (error) {\n",
              "        console.error('Error during call to suggestCharts:', error);\n",
              "      }\n",
              "      quickchartButtonEl.classList.remove('colab-df-spinner');\n",
              "      quickchartButtonEl.classList.add('colab-df-quickchart-complete');\n",
              "    }\n",
              "    (() => {\n",
              "      let quickchartButtonEl =\n",
              "        document.querySelector('#df-3bdfa351-d2ca-4cb9-8109-3f89c1f6d3fb button');\n",
              "      quickchartButtonEl.style.display =\n",
              "        google.colab.kernel.accessAllowed ? 'block' : 'none';\n",
              "    })();\n",
              "  </script>\n",
              "</div>\n",
              "\n",
              "    </div>\n",
              "  </div>\n"
            ]
          },
          "metadata": {},
          "execution_count": 286
        }
      ],
      "source": [
        "dados.describe()"
      ]
    },
    {
      "cell_type": "code",
      "execution_count": 287,
      "metadata": {
        "colab": {
          "base_uri": "https://localhost:8080/",
          "height": 408
        },
        "id": "rbtjOrj9zik3",
        "outputId": "e1782ce6-c1cb-4de3-fedb-1ad1c7b8976a"
      },
      "outputs": [
        {
          "output_type": "display_data",
          "data": {
            "text/plain": [
              "<Figure size 2000x600 with 1 Axes>"
            ],
            "image/png": "[encoded data removed]"
          },
          "metadata": {}
        }
      ],
      "source": [
        "# Histograma dos ratings\n",
        "sns.histplot(dados['Current Rating'])\n",
        "plt.title('Histograma dos Ratings', fontsize=28)\n",
        "plt.ylabel('Frequência',fontsize=20)\n",
        "plt.xlabel('')\n",
        "plt.xticks(fontsize=20)\n",
        "plt.yticks(fontsize=20)\n",
        "plt.show()\n"
      ]
    },
    {
      "cell_type": "markdown",
      "source": [],
      "metadata": {
        "id": "9tjiGxY0KMXb"
      }
    },
    {
      "cell_type": "markdown",
      "source": [
        "Pelo histograma nota-se que conforme o rating sobe a frequência diminui muito. Maior parte ods GMs estão numa faixa abaixo dos 2700"
      ],
      "metadata": {
        "id": "GAi_dxRMKMKq"
      }
    },
    {
      "cell_type": "code",
      "source": [
        "dados['Current Rating'].describe()"
      ],
      "metadata": {
        "colab": {
          "base_uri": "https://localhost:8080/"
        },
        "id": "rfqElcw8Lfxr",
        "outputId": "60965348-b57e-48c3-88a0-556918ee5658"
      },
      "execution_count": 288,
      "outputs": [
        {
          "output_type": "execute_result",
          "data": {
            "text/plain": [
              "count     128.000000\n",
              "mean     2697.023438\n",
              "std        42.273848\n",
              "min      2650.000000\n",
              "25%      2663.750000\n",
              "50%      2683.000000\n",
              "75%      2715.250000\n",
              "max      2847.000000\n",
              "Name: Current Rating, dtype: float64"
            ]
          },
          "metadata": {},
          "execution_count": 288
        }
      ]
    },
    {
      "cell_type": "code",
      "execution_count": 289,
      "metadata": {
        "colab": {
          "base_uri": "https://localhost:8080/",
          "height": 377
        },
        "id": "t7vZO79N1QiR",
        "outputId": "7b945440-4781-4564-e20c-e7cbb937bb53"
      },
      "outputs": [
        {
          "output_type": "display_data",
          "data": {
            "text/plain": [
              "<Figure size 2000x600 with 1 Axes>"
            ],
            "image/png": "[encoded data removed]"
          },
          "metadata": {}
        }
      ],
      "source": [
        "#boxplot dos ratings\n",
        "sns.boxplot(dados['Current Rating'])\n",
        "plt.title('Box-Plot dos Ratings', fontsize=28)\n",
        "plt.ylabel('Rating',fontsize=20)\n",
        "plt.xlabel('')\n",
        "plt.xticks(fontsize=20)\n",
        "plt.yticks(fontsize=20)\n",
        "plt.show()"
      ]
    },
    {
      "cell_type": "markdown",
      "source": [
        "O box-plot nos mostra uma certa assimetria nos dados, temos que 50% dos GM´s tem até 2683 de rating FIDE, 25% tem entre 2663.75 e 2683 onde o mínimo é de 2650, já os 25% com maior rating tem mais de 2715.25 com 3 pontos descrepantes e máximo de 2847.\n",
        "Isso mostra que aqueles com maior rating estão bem acima dos demais, o que faz a média de 2697.023438 não refletir tão bem a realidade, pois 50% dos jogadores tem menos de 2683."
      ],
      "metadata": {
        "id": "ACrGHUzALMX3"
      }
    },
    {
      "cell_type": "markdown",
      "source": [],
      "metadata": {
        "id": "VFin7VrHLMSW"
      }
    },
    {
      "cell_type": "code",
      "source": [
        "dados['Country'].unique()"
      ],
      "metadata": {
        "colab": {
          "base_uri": "https://localhost:8080/"
        },
        "id": "6fAFaAiONuOM",
        "outputId": "e3923de7-cd6c-4bc7-f7a8-80a4ad3b5050"
      },
      "execution_count": 290,
      "outputs": [
        {
          "output_type": "execute_result",
          "data": {
            "text/plain": [
              "array(['NOR', 'USA', 'RUS', 'CHN', 'ARM', 'NED', 'AZE', 'HUN', 'FID',\n",
              "       'FRA', 'IND', 'BUL', 'CUB', 'POL', 'GER', 'ENG', 'SCO/USA', 'ESP',\n",
              "       'VIE', 'URS', 'UKR', 'EGY', 'CZE', 'AUT', 'UAE', 'ISR', 'IRI',\n",
              "       'SWE', 'AUT/USA', 'UZB', 'HUN/AUT', 'GER/USA', 'ROU',\n",
              "       'POL/RUS/FRA', 'HUN/AUS', 'PER', 'BRD'], dtype=object)"
            ]
          },
          "metadata": {},
          "execution_count": 290
        }
      ]
    },
    {
      "cell_type": "code",
      "execution_count": 291,
      "metadata": {
        "colab": {
          "base_uri": "https://localhost:8080/",
          "height": 488
        },
        "id": "CuUm0gABfvXV",
        "outputId": "6b97f43d-f0d4-4ebe-8339-b57b088ed0a9"
      },
      "outputs": [
        {
          "output_type": "display_data",
          "data": {
            "text/plain": [
              "<Figure size 2000x600 with 1 Axes>"
            ],
            "image/png": "[encoded data removed]"
          },
          "metadata": {}
        }
      ],
      "source": [
        "# quantidade de jogadores de cada país\n",
        "ax = sns.countplot(data=dados, x='Country', order=dados['Country'].value_counts().index)\n",
        "\n",
        "plt.xlabel('Páis', fontsize=20)\n",
        "plt.ylabel('Número de jogadores', fontsize=20)\n",
        "plt.title('QUANTIDADE DE GMS POR PÁIS', fontsize=28)\n",
        "plt.xticks(fontsize=12)\n",
        "plt.yticks(fontsize=20)\n",
        "\n",
        "ax.set(yticklabels=[])\n",
        "plt.xticks(rotation=45, ha='right')\n",
        "for p in ax.patches:\n",
        "    ax.annotate(f'{p.get_height()}', (p.get_x() + p.get_width() / 2., p.get_height()),\n",
        "                ha='center', va='center', xytext=(0, 10), textcoords='offset points')\n",
        "\n",
        "plt.show()"
      ]
    },
    {
      "cell_type": "markdown",
      "source": [
        "Através deste gráfico vemos um grande número de Russos sendo 25 deles, seguido por 12 Americanos e 9 Chineses, além disso há uma grande variedade de países representados entre os top GMs com 33 países diferentes"
      ],
      "metadata": {
        "id": "2nX0iVnHNPBq"
      }
    },
    {
      "cell_type": "markdown",
      "source": [],
      "metadata": {
        "id": "9CLcUgCwNO96"
      }
    },
    {
      "cell_type": "code",
      "execution_count": 292,
      "metadata": {
        "colab": {
          "base_uri": "https://localhost:8080/",
          "height": 468
        },
        "id": "MLR_ft6bhOme",
        "outputId": "dad060ba-693c-49d3-897a-b0967f4a050a"
      },
      "outputs": [
        {
          "output_type": "display_data",
          "data": {
            "text/plain": [
              "<Figure size 2000x600 with 1 Axes>"
            ],
            "image/png": "[encoded data removed]"
          },
          "metadata": {}
        }
      ],
      "source": [
        "# média do rating de cada país\n",
        "media_por_pais = dados.groupby('Country')['Current Rating'].mean().reset_index()\n",
        "top10_medias = media_por_pais.sort_values(by='Current Rating', ascending=False).head(20)\n",
        "\n",
        "ax = sns.barplot(data=top10_medias, x='Country', y='Current Rating')\n",
        "\n",
        "plt.xlabel('País',fontsize = 20)\n",
        "plt.ylabel('Média de Current Rating',fontsize = 20)\n",
        "plt.title('Média de Current Rating por País',fontsize = 28)\n",
        "plt.xticks(fontsize=12)\n",
        "plt.yticks(fontsize=20)\n",
        "ax.set(yticklabels=[])\n",
        "plt.xticks(rotation=45, ha='right')\n",
        "\n",
        "for p in ax.patches:\n",
        "    ax.annotate(f'{p.get_height():.2f}', (p.get_x() + p.get_width() / 2., p.get_height()),\n",
        "                ha='center', va='center', xytext=(0, 10), textcoords='offset points')\n",
        "\n",
        "plt.show()"
      ]
    },
    {
      "cell_type": "markdown",
      "source": [
        "Olhando para a média de rating por país vemos que os 3 primeiros são aqueles com menor número de jogadres, sendo a NOR e CUB com apenas 1 representante e FID com 2, a seguir vemos os Indianos com 4 representantes e um rating médio de 2717.25 e os Americanos com 2714.42.\n",
        "\n",
        "O restante está bem próximo de rating, nota-se que os Russos aparecem em 12 lugar, com 2705.92 e os Chineses em 11 lugar com 2708.56, ou seja, estes países possuem muitos GMs porém na média eles não são os mais fortes"
      ],
      "metadata": {
        "id": "V1aI477cOOnt"
      }
    },
    {
      "cell_type": "markdown",
      "source": [],
      "metadata": {
        "id": "Blo2OfwUOOla"
      }
    },
    {
      "cell_type": "code",
      "execution_count": null,
      "metadata": {
        "id": "YIKDYW-RkgTt"
      },
      "outputs": [],
      "source": [
        "# média do rating por faixa de idade\n",
        "faixas_etarias = [0, 20, 30, 40, 50, 60, 80]\n",
        "dados['faixa_etaria'] = pd.cut(dados['Idade'], bins=faixas_etarias, labels=['0-20', '21-30', '31-40', '41-50', '51-60', '61-80'])\n",
        "\n",
        "# média de 'Current Rating' para cada faixa_etaria\n",
        "media_por_faixa = dados.groupby('faixa_etaria')['Current Rating'].mean()\n",
        "\n",
        "# ordena as faixas etárias pela média de 'Current Rating'\n",
        "media_por_faixa = media_por_faixa.sort_values(ascending=False)\n",
        "\n",
        "ax = sns.barplot(x=media_por_faixa.index, y=media_por_faixa.values, order=media_por_faixa.index)\n",
        "\n",
        "plt.xlabel('faixa_etaria',fontsize=20)\n",
        "plt.ylabel('Média de Current Rating',fontsize=20)\n",
        "plt.title('Média de Current Rating por Faixa Etária',fontsize=28)\n",
        "plt.xticks(fontsize=20)\n",
        "plt.yticks(fontsize=20)\n",
        "plt.xlabel('')\n",
        "\n",
        "for p in ax.patches:\n",
        "    ax.annotate(f'{p.get_height():.2f}', (p.get_x() + p.get_width() / 2., p.get_height()),\n",
        "                ha='center', va='center', xytext=(0, 10), textcoords='offset points')\n",
        "\n",
        "plt.show()\n"
      ]
    },
    {
      "cell_type": "code",
      "source": [
        "dados['faixa_etaria'].value_counts()"
      ],
      "metadata": {
        "id": "Hx0OzYJ_Pnjj"
      },
      "execution_count": null,
      "outputs": []
    },
    {
      "cell_type": "markdown",
      "source": [
        "Com relação a idade destes enxadistas nota-se algo muito legal, a maior média de rating está na faixa de 61-80 anos, seguido pelos mais jovens de 0-20 anos, entretanto se olharmos para a quantidade de GMs com essa idade tem-se apenas 1 jogadores na faixa de 61-80 e 2 de 0-20, ou seja, essa média não reflete a realidade bem.\n",
        "\n",
        "Tirando estas faixas temos que 5 jogadores com 51-60 e um rating médio de 2720.80, seguindo por 17 jogadores com 41-50 anos e um rating médio de 2705.36.\n",
        "\n",
        "Por fim temos as faixas com maior número de enxadristas, de 21-30 com uma média de 2697.58 de rating e  por último aqueles com 31-40 com 44 enxadristas e um raiting médio de 2682.24"
      ],
      "metadata": {
        "id": "JZhbUxPPPP_-"
      }
    },
    {
      "cell_type": "markdown",
      "source": [],
      "metadata": {
        "id": "EPHygOhOPPzs"
      }
    },
    {
      "cell_type": "markdown",
      "metadata": {
        "id": "ujgswqW_ap7F"
      },
      "source": [
        "## A partir daqui a minha ideia é validar algumas perguntas como por exemplo\n",
        "\n",
        "##  Jogadores mais jovens (até 30 anos) tendem a arriscar mais enquanto os jogadores mais antigos(mais que 40 anos) são mais conservadores.\n",
        "## Existe diferença atualmente entre o estilo de jogo dos Russos e dos Americanos\n"
      ]
    },
    {
      "cell_type": "markdown",
      "metadata": {
        "id": "3eLyCvUMrlSM"
      },
      "source": [
        "## Jogadores mais jovens (até 30 anos) tendem a arriscar mais enquanto os jogadores mais antigos(mais que 40 anos) são mais conservadores."
      ]
    },
    {
      "cell_type": "code",
      "execution_count": null,
      "metadata": {
        "id": "vQWsSixUeCJs"
      },
      "outputs": [],
      "source": [
        "dados.head(5)"
      ]
    },
    {
      "cell_type": "code",
      "execution_count": null,
      "metadata": {
        "id": "yGWEmR5Hexvt"
      },
      "outputs": [],
      "source": [
        "# criando uma lista de strings com o split de Results\n",
        "dados['Results'] = dados['Results'].str.split()\n",
        "dados['White Results'] = dados['White Results'].str.split()\n",
        "dados['Black Results'] = dados['Black Results'].str.split()\n",
        "\n",
        "\n",
        "# Criando colunas específicas para Results\n",
        "dados['taxa_vitoria'] = dados['Results'].apply(lambda x: x[1] if len(x) > 0 else None)\n",
        "dados['numero_vitorias'] = dados['Results'].apply(lambda x: x[2] if len(x) > 0 else None)\n",
        "\n",
        "dados['taxa_derrota'] = dados['Results'].apply(lambda x: x[4] if len(x) > 0 else None)\n",
        "dados['numero_derrotas'] = dados['Results'].apply(lambda x: x[5] if len(x) > 0 else None)\n",
        "\n",
        "dados['taxa_empate'] = dados['Results'].apply(lambda x: x[7] if len(x) > 0 else None)\n",
        "dados['numero_empates'] = dados['Results'].apply(lambda x: x[8] if len(x) > 0 else None)\n",
        "\n",
        "\n",
        "\n",
        "\n",
        "# Criando colunas específicas para White Results\n",
        "dados['taxa_vitoria_brancas'] = dados['White Results'].apply(lambda x: x[1] if len(x) > 0 else None)\n",
        "dados['numero_vitorias_brancas'] = dados['White Results'].apply(lambda x: x[2] if len(x) > 0 else None)\n",
        "\n",
        "dados['taxa_derrota_brancas'] = dados['White Results'].apply(lambda x: x[4] if len(x) > 0 else None)\n",
        "dados['numero_derrotas_brancas'] = dados['White Results'].apply(lambda x: x[5] if len(x) > 0 else None)\n",
        "\n",
        "dados['taxa_empate_brancas'] = dados['White Results'].apply(lambda x: x[7] if len(x) > 0 else None)\n",
        "dados['numero_empates_brancas'] = dados['White Results'].apply(lambda x: x[8] if len(x) > 0 else None)\n",
        "\n",
        "\n",
        "# Criando colunas específicas para Black Results\n",
        "dados['taxa_vitoria_pretas'] = dados['Black Results'].apply(lambda x: x[1] if len(x) > 0 else None)\n",
        "dados['numero_vitorias_pretas'] = dados['Black Results'].apply(lambda x: x[2] if len(x) > 0 else None)\n",
        "\n",
        "dados['taxa_derrota_pretas'] = dados['Black Results'].apply(lambda x: x[4] if len(x) > 0 else None)\n",
        "dados['numero_derrotas_pretas'] = dados['Black Results'].apply(lambda x: x[5] if len(x) > 0 else None)\n",
        "\n",
        "dados['taxa_empate_pretas'] = dados['Black Results'].apply(lambda x: x[7] if len(x) > 0 else None)\n",
        "dados['numero_empates_pretas'] = dados['Black Results'].apply(lambda x: x[8] if len(x) > 0 else None)\n",
        "\n",
        "\n",
        "\n"
      ]
    },
    {
      "cell_type": "code",
      "execution_count": null,
      "metadata": {
        "id": "MY50nUBnfqK2"
      },
      "outputs": [],
      "source": [
        "# Definindo uma lista de colunas a serem processadas\n",
        "colunas_a_processar = ['taxa_vitoria', 'numero_vitorias', 'taxa_derrota', 'numero_derrotas', 'taxa_empate', 'numero_empates',\n",
        "                       'taxa_vitoria_brancas', 'numero_vitorias_brancas', 'taxa_derrota_brancas', 'numero_derrotas_brancas',\n",
        "                       'taxa_empate_brancas', 'numero_empates_brancas', 'taxa_vitoria_pretas', 'numero_vitorias_pretas',\n",
        "                       'taxa_derrota_pretas', 'numero_derrotas_pretas', 'taxa_empate_pretas', 'numero_empates_pretas']\n",
        "\n",
        "\n",
        "for coluna in colunas_a_processar:\n",
        "    dados[coluna] = dados[coluna].str.replace('[()%]', '', regex=True)\n",
        "\n",
        "# Convertendo as colunas para os tipos desejados\n",
        "colunas_numericas = ['numero_vitorias', 'numero_derrotas', 'numero_empates', 'numero_vitorias_brancas', 'numero_derrotas_brancas', 'numero_empates_brancas',\n",
        "                     'numero_vitorias_pretas', 'numero_derrotas_pretas', 'numero_empates_pretas']\n",
        "\n",
        "dados[colunas_numericas] = dados[colunas_numericas].astype('int', errors='ignore')\n",
        "\n",
        "colunas_porcentagem = ['taxa_vitoria', 'taxa_derrota', 'taxa_empate', 'taxa_vitoria_brancas', 'taxa_derrota_brancas', 'taxa_empate_brancas',\n",
        "                       'taxa_vitoria_pretas', 'taxa_derrota_pretas', 'taxa_empate_pretas']\n",
        "\n",
        "dados[colunas_porcentagem] = dados[colunas_porcentagem].astype('float', errors='ignore') / 100.0\n"
      ]
    },
    {
      "cell_type": "code",
      "execution_count": null,
      "metadata": {
        "id": "PFbv3IEHk80a"
      },
      "outputs": [],
      "source": [
        "dados.drop(columns=['Results','White Results','Black Results'],inplace=True)"
      ]
    },
    {
      "cell_type": "markdown",
      "metadata": {
        "id": "cLNWOIIloYpH"
      },
      "source": [
        "### Separando entre jovens (até 30 anos) e antigos (mais que 40 anos)"
      ]
    },
    {
      "cell_type": "code",
      "execution_count": null,
      "metadata": {
        "id": "e18d7bdCOND5"
      },
      "outputs": [],
      "source": [
        "for i in range(len(dados.index)):\n",
        "    if (dados.loc[i, 'faixa_etaria'] == '0-20') or (dados.loc[i, 'faixa_etaria'] == '21-30'):\n",
        "        dados.loc[i, 'classificacao'] = 'Jovem'\n",
        "    elif (dados.loc[i, 'faixa_etaria'] == '41-50') or (dados.loc[i, 'faixa_etaria'] == '51-60'):\n",
        "        dados.loc[i, 'classificacao'] = 'Antigo'\n",
        "\n"
      ]
    },
    {
      "cell_type": "code",
      "execution_count": null,
      "metadata": {
        "id": "yZa2KPJ_oX6V"
      },
      "outputs": [],
      "source": [
        "jovens = dados[dados['classificacao'] == 'Jovem']\n",
        "\n",
        "antigos = dados[dados['classificacao'] == 'Antigo']"
      ]
    },
    {
      "cell_type": "code",
      "execution_count": null,
      "metadata": {
        "id": "JhMrokWZQjYE"
      },
      "outputs": [],
      "source": [
        "jovens.shape[0],antigos.shape[0]"
      ]
    },
    {
      "cell_type": "code",
      "execution_count": null,
      "metadata": {
        "id": "RUnydPehxxTu"
      },
      "outputs": [],
      "source": [
        "jovens['Current Rating'].describe(), antigos['Current Rating'].describe()"
      ]
    },
    {
      "cell_type": "code",
      "execution_count": null,
      "metadata": {
        "id": "CFLm2NEvM7Hw"
      },
      "outputs": [],
      "source": [
        "# Médias\n",
        "medias_vitoria_brancas = dados.groupby('classificacao')['taxa_vitoria_brancas'].mean()\n",
        "medias_vitoria_pretas = dados.groupby('classificacao')['taxa_vitoria_pretas'].mean()\n",
        "\n",
        "medias_derrota_brancas = dados.groupby('classificacao')['taxa_derrota_brancas'].mean()\n",
        "medias_derrota_pretas = dados.groupby('classificacao')['taxa_derrota_pretas'].mean()\n",
        "\n",
        "medias_empate_brancas = dados.groupby('classificacao')['taxa_empate_brancas'].mean()\n",
        "medias_empate_pretas = dados.groupby('classificacao')['taxa_empate_pretas'].mean()\n",
        "\n",
        "# Desvios padrão\n",
        "desvios_vitoria_brancas = dados.groupby('classificacao')['taxa_vitoria_brancas'].std()\n",
        "desvios_vitoria_pretas = dados.groupby('classificacao')['taxa_vitoria_pretas'].std()\n",
        "\n",
        "desvios_derrota_brancas = dados.groupby('classificacao')['taxa_derrota_brancas'].std()\n",
        "desvios_derrota_pretas = dados.groupby('classificacao')['taxa_derrota_pretas'].std()\n",
        "\n",
        "desvios_empate_brancas = dados.groupby('classificacao')['taxa_empate_brancas'].std()\n",
        "desvios_empate_pretas = dados.groupby('classificacao')['taxa_empate_pretas'].std()\n",
        "\n",
        "# Coeficientes de variação\n",
        "coef_var_vitoria_brancas = (desvios_vitoria_brancas / medias_vitoria_brancas) * 100\n",
        "coef_var_vitoria_pretas = (desvios_vitoria_pretas / medias_vitoria_pretas) * 100\n",
        "\n",
        "coef_var_derrota_brancas = (desvios_derrota_brancas / medias_derrota_brancas) * 100\n",
        "coef_var_derrota_pretas = (desvios_derrota_pretas / medias_derrota_pretas) * 100\n",
        "\n",
        "coef_var_empate_brancas = (desvios_empate_brancas / medias_empate_brancas) * 100\n",
        "coef_var_empate_pretas = (desvios_empate_pretas / medias_empate_pretas) * 100\n",
        "\n",
        "# Criar DataFrame\n",
        "df_comparacao = pd.DataFrame({\n",
        "    'media_vitoria_brancas': medias_vitoria_brancas,\n",
        "    'desvio_padrao_vitoria_brancas': desvios_vitoria_brancas,\n",
        "    'coef_var_vitoria_brancas': coef_var_vitoria_brancas,\n",
        "\n",
        "    'media_vitoria_pretas': medias_vitoria_pretas,\n",
        "    'desvio_padrao_vitoria_pretas': desvios_vitoria_pretas,\n",
        "    'coef_var_vitoria_pretas': coef_var_vitoria_pretas,\n",
        "\n",
        "    'media_derrota_brancas': medias_derrota_brancas,\n",
        "    'desvio_padrao_derrota_brancas': desvios_derrota_brancas,\n",
        "    'coef_var_derrota_brancas': coef_var_derrota_brancas,\n",
        "\n",
        "    'media_derrota_pretas': medias_derrota_pretas,\n",
        "    'desvio_padrao_derrota_pretas': desvios_derrota_pretas,\n",
        "    'coef_var_derrota_pretas': coef_var_derrota_pretas,\n",
        "\n",
        "    'media_empate_brancas': medias_empate_brancas,\n",
        "    'desvio_padrao_empate_brancas': desvios_empate_brancas,\n",
        "    'coef_var_empate_brancas': coef_var_empate_brancas,\n",
        "\n",
        "    'media_empate_pretas': medias_empate_pretas,\n",
        "    'desvio_padrao_empate_pretas': desvios_empate_pretas,\n",
        "    'coef_var_empate_pretas': coef_var_empate_pretas,\n",
        "}, index=['Antigo', 'Jovem'])\n",
        "\n",
        "# Exibir o DataFrame resultante\n",
        "df_comparacao\n"
      ]
    },
    {
      "cell_type": "markdown",
      "metadata": {
        "id": "gX8mhrXPboVi"
      },
      "source": [
        "Verificando se existe diferença significativa entre essas médias das taxas, como possuimos uma amostra pequena então iremos utilizar o teste não paramétrico Mann-Whitney. Importante ressaltar que obtivemos CV moderados altos, entre 10 e 30 % ou seja, talvez o teste não reflita a realidade tão bem\n"
      ]
    },
    {
      "cell_type": "markdown",
      "source": [],
      "metadata": {
        "id": "zKRzP7E-Q-2A"
      }
    },
    {
      "cell_type": "code",
      "execution_count": null,
      "metadata": {
        "id": "HNPIVotsaXuP"
      },
      "outputs": [],
      "source": [
        "import scipy.stats as stats\n",
        "\n",
        "statistic_1, p_value_1 =stats.mannwhitneyu(jovens['taxa_vitoria_pretas'], antigos['taxa_vitoria_pretas'])\n",
        "statistic_2, p_value_2 = stats.mannwhitneyu(jovens['taxa_derrota_pretas'], antigos['taxa_derrota_pretas'])\n",
        "statistic_3, p_value_3 = stats.mannwhitneyu(jovens['taxa_empate_pretas'], antigos['taxa_empate_pretas'])\n",
        "\n",
        "statistic_4, p_value_4 = stats.mannwhitneyu(jovens['taxa_vitoria_brancas'], antigos['taxa_vitoria_brancas'])\n",
        "statistic_5, p_value_5 = stats.mannwhitneyu(jovens['taxa_derrota_brancas'], antigos['taxa_derrota_brancas'])\n",
        "statistic_6, p_value_6 = stats.mannwhitneyu(jovens['taxa_empate_brancas'], antigos['taxa_empate_brancas'])\n"
      ]
    },
    {
      "cell_type": "code",
      "execution_count": null,
      "metadata": {
        "id": "-lnAJU1ZdEWw"
      },
      "outputs": [],
      "source": [
        "testes = {'taxa_vitoria_pretas' : p_value_1 ,\n",
        "          'taxa_derrota_pretas' : p_value_2,\n",
        "          'taxa_empate_pretas' : p_value_3,\n",
        "          'taxa_vitoria_brancas' : p_value_4 ,\n",
        "          'taxa_derrota_brancas' : p_value_5,\n",
        "          'taxa_empate_brancas' : p_value_6\n",
        "          }\n",
        "\n",
        "df_testes = pd.DataFrame(data = testes,index = ['p_valores'])\n",
        "df_testes"
      ]
    },
    {
      "cell_type": "markdown",
      "metadata": {
        "id": "yYwrZ4m2qq7B"
      },
      "source": [
        "Nota-se que os mais jovens tendem a vencer, e perderem mais também, tanto de bracncas quanto de pretas. Os mais antigos empatam mais tanto de brancas quanto de pretas, ou seja, os enxadristas mais novos arriscam mais nas partidas, por isso ganham mais porém também perdem mais"
      ]
    },
    {
      "cell_type": "markdown",
      "source": [],
      "metadata": {
        "id": "mCZs6CbfQ-NO"
      }
    },
    {
      "cell_type": "markdown",
      "metadata": {
        "id": "sy2hzrw4mfXL"
      },
      "source": [
        "## Avaliando o estilo de jogo dos Russos e Americanos, para essa análise usaremos apenas jogadores atuais, ou seja, jogadores com menos de 40 anos"
      ]
    },
    {
      "cell_type": "code",
      "execution_count": null,
      "metadata": {
        "id": "QAO46HCTnMOU"
      },
      "outputs": [],
      "source": [
        "# Pegaremos os 8 jogadores com mais rating de cada país para a comparação\n",
        "russos = dados[(dados['Country'] == 'RUS') & (dados['Idade'] <= 40)].head(8).reset_index(drop=True)\n",
        "americanos = dados[(dados['Country'] == 'USA') & (dados['Idade'] <= 40)].head(8).reset_index(drop=True)"
      ]
    },
    {
      "cell_type": "code",
      "execution_count": null,
      "metadata": {
        "id": "qIaLbcpzpofK"
      },
      "outputs": [],
      "source": [
        "print('a média de rating dos russos é',russos['Current Rating'].mean()) , print('a média de rating dos americanos é',americanos['Current Rating'].mean())"
      ]
    },
    {
      "cell_type": "code",
      "execution_count": null,
      "metadata": {
        "id": "BTvt2x85qR8x"
      },
      "outputs": [],
      "source": [
        "russos['Current Rating'].describe() , americanos['Current Rating'].describe()"
      ]
    },
    {
      "cell_type": "code",
      "execution_count": null,
      "metadata": {
        "id": "gVRutKZRtJNy"
      },
      "outputs": [],
      "source": [
        "pd.concat([americanos[['Name', 'Current Rating']], russos[['Name', 'Current Rating']]], axis = 1)"
      ]
    },
    {
      "cell_type": "code",
      "execution_count": null,
      "metadata": {
        "id": "Uz-BDzdvv2y-"
      },
      "outputs": [],
      "source": [
        "americanos.Name"
      ]
    },
    {
      "cell_type": "markdown",
      "metadata": {
        "id": "9qYyMVs8qvq7"
      },
      "source": [
        "Nota-se que a média de rating dos Russos é superior à dos Americanos, além disso o rating dos Russos está mais concentrado em torno dessa média, sendo todos acima de 2700, entretanto existem alguns Americanos com rating maior que dos Russos."
      ]
    },
    {
      "cell_type": "markdown",
      "metadata": {
        "id": "TYsKV8_0vKdo"
      },
      "source": [
        "Para comparar os estilos utilizaremos outra dataframe, onde temos informações de aberturas e taxas de vitoria,empate,derrota e número de jogos."
      ]
    },
    {
      "cell_type": "markdown",
      "source": [],
      "metadata": {
        "id": "tmmh7GniRC0m"
      }
    },
    {
      "cell_type": "code",
      "execution_count": null,
      "metadata": {
        "id": "ecRHs8y590Ly"
      },
      "outputs": [],
      "source": [
        "dados_biog_result = pd.read_csv('players_result_of_openings.csv')\n",
        "dados_biog_result.columns = ['Name','Color','Opening','N_games','N_wins','N_losses','N_draws']"
      ]
    },
    {
      "cell_type": "code",
      "execution_count": null,
      "metadata": {
        "id": "cgs7cBKCnDIk"
      },
      "outputs": [],
      "source": [
        "dados_biog_result.head()"
      ]
    },
    {
      "cell_type": "code",
      "execution_count": null,
      "metadata": {
        "id": "Bu1YU7ugvl1i"
      },
      "outputs": [],
      "source": [
        "# Filtrando apenas os 8 jogadores de cada país\n",
        "op_americanos = dados_biog_result[dados_biog_result['Name'].isin(americanos['Name'])].reset_index(drop=True)\n",
        "op_russos = dados_biog_result[dados_biog_result['Name'].isin(russos['Name'])].reset_index(drop=True)"
      ]
    },
    {
      "cell_type": "markdown",
      "metadata": {
        "id": "kVvBtpGL1cvb"
      },
      "source": [
        "Trasformando o DataFrame para faciltiar as análise, pegando as 3 aberturas de cada cor mais jogadas pro cada jogador, a partir disso será possível comparar as características de cada um."
      ]
    },
    {
      "cell_type": "code",
      "execution_count": null,
      "metadata": {
        "id": "7n-YT2Y4wQS8"
      },
      "outputs": [],
      "source": [
        "\n",
        "americanos_agp = op_americanos.groupby('Name').apply(lambda x: x.sort_values(by='N_games', ascending=False)).reset_index(drop=True)\n",
        "russos_agp = op_russos.groupby('Name').apply(lambda x: x.sort_values(by='N_games', ascending=False)).reset_index(drop=True)\n"
      ]
    },
    {
      "cell_type": "code",
      "execution_count": null,
      "metadata": {
        "id": "IcyFeOpLznbv"
      },
      "outputs": [],
      "source": [
        "americanos_top_op = americanos_agp.groupby(['Name', 'Color']).head(3).reset_index(drop=True)\n",
        "russos_top_op = russos_agp.groupby(['Name', 'Color']).head(3).reset_index(drop=True)\n"
      ]
    },
    {
      "cell_type": "code",
      "execution_count": null,
      "metadata": {
        "id": "URvwFnXDx-fd"
      },
      "outputs": [],
      "source": [
        "americanos_top_op = americanos_top_op.sort_values(by=['Name','Color']).reset_index(drop=True)\n",
        "russos_top_op = russos_top_op.sort_values(by=['Name','Color']).reset_index(drop=True)"
      ]
    },
    {
      "cell_type": "code",
      "execution_count": null,
      "metadata": {
        "id": "tjdECf5b46Bk"
      },
      "outputs": [],
      "source": [
        "americanos_lista_aberturas = americanos_top_op['Opening'].str.split(',')\n",
        "americanos_lista = pd.DataFrame({\n",
        "    'Aberturas': americanos_lista_aberturas.apply(lambda x: ', '.join([x[0], x[1]]) if len(x) > 1 else None)\n",
        "})\n",
        "americanos_lista.groupby('Aberturas').value_counts()"
      ]
    },
    {
      "cell_type": "code",
      "execution_count": null,
      "metadata": {
        "id": "KYxscoXK6riq"
      },
      "outputs": [],
      "source": [
        "russos_lista_aberturas = russos_top_op['Opening'].str.split(',')\n",
        "russos_lista = pd.DataFrame({\n",
        "    'Aberturas': russos_lista_aberturas.apply(lambda x: ', '.join([x[0], x[1]]) if len(x) > 1 else None)\n",
        "})\n",
        "russos_lista.groupby('Aberturas').value_counts()"
      ]
    },
    {
      "cell_type": "markdown",
      "metadata": {
        "id": "e4Tbt2lnxNHS"
      },
      "source": [
        "A partir das aberturas nota-se que ambos jogam em sua maioria Ruy Lopez e Siciliana, os Russos jogam mais variantes da Siciliana (9) e também jogam mais Índia do Rei que os Americanos (5 x 3), essas defesas tendem a serem mais agressivas.\n",
        "\n",
        "Os Americanos jogam Catalan e Semi Slava, ja os Russos não possuem registros dessas aberturas, essas aberturas são mais sólidas e tendem a serem mais empatativas.\n",
        "\n",
        "No geral ambos possuem um repertório bem parecido, entretanto os Russos tendem a partir para aberturas e defesas mais agressivas, como siciliana e índia do rei, já os Ameriacanos também jogam sicilianas porém possuem um repertória mais sólido, com semi slava e catalan\n",
        "\n"
      ]
    },
    {
      "cell_type": "markdown",
      "source": [],
      "metadata": {
        "id": "rFEJiGIXRE9J"
      }
    },
    {
      "cell_type": "markdown",
      "metadata": {
        "id": "Qvv2Tnd2z19t"
      },
      "source": [
        "Agora iremos olhar para as taxas de vitória empate e derrota de cada país"
      ]
    },
    {
      "cell_type": "code",
      "execution_count": null,
      "metadata": {
        "id": "WdeFOyfEz-Ca"
      },
      "outputs": [],
      "source": [
        "taxas_americanos = pd.DataFrame({\n",
        "    'taxa_vitoria': (americanos_top_op['N_wins'] / americanos_top_op['N_games']).round(2),\n",
        "    'taxa_derrota': (americanos_top_op['N_losses'] / americanos_top_op['N_games']).round(2),\n",
        "    'taxa_empate': (americanos_top_op['N_draws'] / americanos_top_op['N_games']).round(2)\n",
        "})\n",
        "\n",
        "taxas_russos = pd.DataFrame({\n",
        "    'taxa_vitoria': (russos_top_op['N_wins'] / russos_top_op['N_games']).round(2),\n",
        "    'taxa_derrota': (russos_top_op['N_losses'] / russos_top_op['N_games']).round(2),\n",
        "    'taxa_empate': (russos_top_op['N_draws'] / russos_top_op['N_games']).round(2)\n",
        "})\n"
      ]
    },
    {
      "cell_type": "code",
      "execution_count": null,
      "metadata": {
        "id": "uFfHePSj2EAj"
      },
      "outputs": [],
      "source": [
        "americanos_df = pd.concat([americanos_top_op,taxas_americanos], axis=1)\n",
        "russos_df = pd.concat([russos_top_op,taxas_russos], axis=1)\n"
      ]
    },
    {
      "cell_type": "code",
      "execution_count": null,
      "metadata": {
        "id": "oSivJckd2rRb"
      },
      "outputs": [],
      "source": [
        "americanos_df.head()"
      ]
    },
    {
      "cell_type": "code",
      "execution_count": null,
      "metadata": {
        "id": "n-wcwUhl3Z9j"
      },
      "outputs": [],
      "source": [
        "americanos_df_win = americanos_df.sort_values(by='taxa_vitoria', ascending=False).reset_index(drop=True)\n",
        "americanos_df_win.head()"
      ]
    },
    {
      "cell_type": "code",
      "execution_count": null,
      "metadata": {
        "id": "vDrS7SJh74_U"
      },
      "outputs": [],
      "source": [
        "russos_df_win = russos_df.sort_values(by='taxa_vitoria', ascending=False).reset_index(drop=True)\n",
        "russos_df_win.head()"
      ]
    },
    {
      "cell_type": "code",
      "execution_count": null,
      "metadata": {
        "id": "f1KJX7Uu-Zzb"
      },
      "outputs": [],
      "source": [
        "ax = sns.barplot(data=americanos_df_win.head(), x='Opening', y='taxa_vitoria', errorbar=None)\n",
        "plt.xticks(rotation=45, ha='right')\n",
        "\n",
        "plt.xlabel('',fontsize=20)\n",
        "plt.ylabel('Taxa de Vitória',fontsize=20)\n",
        "plt.title('Aberturas com maior taxa de vitória dos Americanos',fontsize=28)\n",
        "plt.xticks(fontsize=12)\n",
        "plt.yticks(fontsize=20)\n",
        "plt.xlabel('')\n",
        "\n",
        "\n",
        "for p in ax.patches:\n",
        "    ax.annotate(f'{p.get_height():.2f}', (p.get_x() + p.get_width() / 2., p.get_height()),\n",
        "                ha='center', va='center', xytext=(0, 10), textcoords='offset points')\n",
        "\n",
        "plt.show()\n"
      ]
    },
    {
      "cell_type": "code",
      "execution_count": null,
      "metadata": {
        "id": "X3VXw1fg9qMN"
      },
      "outputs": [],
      "source": [
        "ax = sns.barplot(data=russos_df_win.head(), x='Opening', y='taxa_vitoria', errorbar=None)\n",
        "plt.xticks(rotation=45, ha='right')\n",
        "\n",
        "plt.xlabel('',fontsize=20)\n",
        "plt.ylabel('Taxa de Vitória',fontsize=20)\n",
        "plt.title('Aberturas com maior taxa de vitória dos Russos',fontsize=28)\n",
        "plt.xticks(fontsize=12)\n",
        "plt.yticks(fontsize=20)\n",
        "plt.xlabel('')\n",
        "\n",
        "for p in ax.patches:\n",
        "    ax.annotate(f'{p.get_height():.2f}', (p.get_x() + p.get_width() / 2., p.get_height()),\n",
        "                ha='center', va='center', xytext=(0, 10), textcoords='offset points')\n",
        "\n",
        "plt.show()\n"
      ]
    },
    {
      "cell_type": "markdown",
      "metadata": {
        "id": "NPNtttZb8gcG"
      },
      "source": [
        "Nota-se que entre as 5 aberturas com maior taxa de vitórias todas são de brancas, para os Americanos 3 das 5 aberturas foram Siciliana, ja para os Russos 3 das 5 foram Índia do Rei e as outras duas foram Inglesas. importante ressatltar que apesar da defesa Francesa aparecer no top 2 dos Americanos, foram jogados apenas 3 games, por isso essa alta taxa de vitória"
      ]
    },
    {
      "cell_type": "markdown",
      "source": [],
      "metadata": {
        "id": "T92s93txRG6-"
      }
    },
    {
      "cell_type": "markdown",
      "metadata": {
        "id": "Bu0xpEGs9jzW"
      },
      "source": [
        "Olhar para as aberturas com maior taxa de derrota"
      ]
    },
    {
      "cell_type": "code",
      "execution_count": null,
      "metadata": {
        "id": "RYA7Yjh5_R_E"
      },
      "outputs": [],
      "source": [
        "americanos_df_loss = americanos_df.sort_values(by='taxa_derrota', ascending=False).reset_index(drop=True)\n",
        "americanos_df_loss.head()"
      ]
    },
    {
      "cell_type": "code",
      "execution_count": null,
      "metadata": {
        "id": "NC-60yuM_T1z"
      },
      "outputs": [],
      "source": [
        "russos_df_loss = russos_df.sort_values(by='taxa_derrota', ascending=False).reset_index(drop=True)\n",
        "russos_df_loss.head()"
      ]
    },
    {
      "cell_type": "code",
      "execution_count": null,
      "metadata": {
        "id": "RsA2b2a7AZLk"
      },
      "outputs": [],
      "source": [
        "ax = sns.barplot(data=americanos_df_loss.head(), x='Opening', y='taxa_derrota', errorbar=None)\n",
        "plt.xticks(rotation=45, ha='right')\n",
        "\n",
        "plt.xlabel('',fontsize=20)\n",
        "plt.ylabel('Taxa de Derrota',fontsize=20)\n",
        "plt.title('Aberturas com maior taxa de derrota dos Americanos',fontsize=28)\n",
        "plt.xticks(fontsize=12)\n",
        "plt.yticks(fontsize=20)\n",
        "plt.xlabel('')\n",
        "\n",
        "for p in ax.patches:\n",
        "    ax.annotate(f'{p.get_height():.2f}', (p.get_x() + p.get_width() / 2., p.get_height()),\n",
        "                ha='center', va='center', xytext=(0, 10), textcoords='offset points')\n",
        "\n",
        "plt.show()"
      ]
    },
    {
      "cell_type": "code",
      "execution_count": null,
      "metadata": {
        "id": "A2UTFP6M_kyI"
      },
      "outputs": [],
      "source": [
        "ax = sns.barplot(data=russos_df_loss.head(), x='Opening', y='taxa_derrota', errorbar=None)\n",
        "plt.xticks(rotation=45, ha='right')\n",
        "\n",
        "plt.xlabel('',fontsize=20)\n",
        "plt.ylabel('Taxa de Derrota',fontsize=20)\n",
        "plt.title('Aberturas com maior taxa de derrota dos Russos',fontsize=28)\n",
        "plt.xticks(fontsize=12)\n",
        "plt.yticks(fontsize=20)\n",
        "plt.xlabel('')\n",
        "\n",
        "for p in ax.patches:\n",
        "    ax.annotate(f'{p.get_height():.2f}', (p.get_x() + p.get_width() / 2., p.get_height()),\n",
        "                ha='center', va='center', xytext=(0, 10), textcoords='offset points')\n",
        "\n",
        "plt.show()"
      ]
    },
    {
      "cell_type": "code",
      "execution_count": null,
      "metadata": {
        "id": "e1TyKzxGjgtE"
      },
      "outputs": [],
      "source": [
        "americanos_df['taxa_vitoria'].describe() , russos_df['taxa_vitoria'].describe()"
      ]
    },
    {
      "cell_type": "code",
      "execution_count": null,
      "metadata": {
        "id": "QdNY-UXGjg-_"
      },
      "outputs": [],
      "source": [
        "americanos_df['taxa_derrota'].describe() , russos_df['taxa_derrota'].describe()"
      ]
    },
    {
      "cell_type": "code",
      "execution_count": null,
      "metadata": {
        "id": "E7ECpFASjOkE"
      },
      "outputs": [],
      "source": [
        "americanos_df['taxa_empate'].describe() , russos_df['taxa_empate'].describe()"
      ]
    },
    {
      "cell_type": "code",
      "execution_count": null,
      "metadata": {
        "id": "DXpHMhyvkqvz"
      },
      "outputs": [],
      "source": [
        "fig, ((b1, b2), (b3, b4), (b5, b6)) = plt.subplots(nrows=3, ncols=2, figsize=(15, 8))\n",
        "\n",
        "sns.boxplot(x=americanos_df['taxa_vitoria'], ax=b1)\n",
        "sns.boxplot(x=americanos_df['taxa_derrota'], ax=b3)\n",
        "sns.boxplot(x=americanos_df['taxa_empate'], ax=b5)\n",
        "\n",
        "sns.boxplot(x=russos_df['taxa_vitoria'], ax=b2)\n",
        "sns.boxplot(x=russos_df['taxa_derrota'], ax=b4)\n",
        "sns.boxplot(x=russos_df['taxa_empate'], ax=b6)\n",
        "\n",
        "b1.set_title('Americanos - Taxa de Vitória')\n",
        "b3.set_title('Americanos - Taxa de Derrota')\n",
        "b5.set_title('Americanos - Taxa de Empate')\n",
        "b2.set_title('Russos - Taxa de Vitória')\n",
        "b4.set_title('Russos - Taxa de Derrota')\n",
        "b6.set_title('Russos - Taxa de Empate')\n",
        "\n",
        "b1.set_xlabel('')\n",
        "b2.set_xlabel('')\n",
        "b3.set_xlabel('')\n",
        "b4.set_xlabel('')\n",
        "b5.set_xlabel('')\n",
        "b6.set_xlabel('')\n",
        "\n",
        "\n",
        "plt.tight_layout()\n",
        "\n",
        "plt.show()\n"
      ]
    },
    {
      "cell_type": "markdown",
      "metadata": {
        "id": "FHGJ-7YenLdz"
      },
      "source": [
        "Baseado nas medidas e nos boxplots das taxas das 3 aberturas mais jogadas pelos melhores jogadores de cada país, vemos que os Russos possuem a média de taxa de vitória maior(39.1% contra 36%), além disso o desvio-padrão é maior pros Americanos, ou seja, existe uma variabilidade mais alta em torno dessa média.\n",
        "\n",
        "Em derrotas os Americanos possuem 21% contra 17.7% dos Russos, ja em empates ambos possuem 43%.\n"
      ]
    },
    {
      "cell_type": "markdown",
      "source": [],
      "metadata": {
        "id": "-OmXva0FRI0w"
      }
    },
    {
      "cell_type": "markdown",
      "metadata": {
        "id": "2Sh0nxJspObG"
      },
      "source": [
        "Como conclusão pode-se dizer que com relação a estilo de aberturas não há uma diferença tão visível entre os países, ambos jogam muito Siciliana, Ruy Lopez, e muitas variantes. Entretanto ao olharmos para o desempenho vemos que os Russos possuem uma taxa de vitória maior com uma taxa de derrota menor, além disso a média de rating é maior por parte dos Russos.\n",
        "\n",
        " Assim é possível dizer que os Russos tem um aproveitamento melhor nas partidas, além de no geral possuirem jogadores mais fortes"
      ]
    },
    {
      "cell_type": "code",
      "source": [
        "!pip install nbconvert --upgrade\n"
      ],
      "metadata": {
        "id": "zfBZamveS-7u"
      },
      "execution_count": null,
      "outputs": []
    }
  ],
  "metadata": {
    "colab": {
      "provenance": [],
      "authorship_tag": "ABX9TyOpYXP/FfIl5OVDfYTog+ro",
      "include_colab_link": true
    },
    "kernelspec": {
      "display_name": "Python 3",
      "name": "python3"
    },
    "language_info": {
      "name": "python"
    }
  },
  "nbformat": 4,
  "nbformat_minor": 0
}